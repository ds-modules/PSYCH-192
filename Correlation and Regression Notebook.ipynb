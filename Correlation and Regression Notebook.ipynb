{
 "cells": [
  {
   "cell_type": "markdown",
   "metadata": {},
   "source": [
    "# Correlation, regression, and prediction"
   ]
  },
  {
   "cell_type": "markdown",
   "metadata": {},
   "source": [
    "One of the most important and interesting aspects of data science is making predictions about the future. How can we learn about temperatures a few decades from now by analyzing historical data about climate change and pollution? Based on a person's social media profile, what conclusions can we draw about their interests? How can we use a patient's medical history to judge how well he or she will respond to a treatment?\n",
    "\n",
    "In this module, you will look at two **correlated** phenomena and predict unseen data points!"
   ]
  },
  {
   "cell_type": "markdown",
   "metadata": {},
   "source": [
    "In order to use the datascience tools in python, we must first import the relevant modules. The text after the # sign is called a \"comment\" and is not part of the code. It's simply a way for us to clarify the syntax."
   ]
  },
  {
   "cell_type": "code",
   "execution_count": 1,
   "metadata": {
    "collapsed": true
   },
   "outputs": [],
   "source": [
    "# These lines import the Numpy and Datascience modules.\n",
    "from datascience import *\n",
    "import numpy as np\n",
    "\n",
    "# These lines do some fancy plotting magic\n",
    "import matplotlib\n",
    "%matplotlib inline\n",
    "import matplotlib.pyplot as plots\n",
    "plots.style.use('fivethirtyeight')"
   ]
  },
  {
   "cell_type": "markdown",
   "metadata": {},
   "source": [
    "We will be using data from the online data archive of Prof. Larry Winner of the University of Florida. The file *hybrid* contains data on hybrid passenger cars sold in the United States from 1997 to 2013. In order to analyze the data, we must first **import** it to our jupyter notebook and **create a table.**"
   ]
  },
  {
   "cell_type": "code",
   "execution_count": 2,
   "metadata": {},
   "outputs": [
    {
     "data": {
      "text/html": [
       "<table border=\"1\" class=\"dataframe\">\n",
       "    <thead>\n",
       "        <tr>\n",
       "            <th>vehicle</th> <th>year</th> <th>msrp</th> <th>acceleration</th> <th>mpg</th> <th>class</th>\n",
       "        </tr>\n",
       "    </thead>\n",
       "    <tbody>\n",
       "        <tr>\n",
       "            <td>Prius (1st Gen)</td> <td>1997</td> <td>24509.7</td> <td>7.46        </td> <td>41.26</td> <td>Compact   </td>\n",
       "        </tr>\n",
       "    </tbody>\n",
       "        <tr>\n",
       "            <td>Tino           </td> <td>2000</td> <td>35355  </td> <td>8.2         </td> <td>54.1 </td> <td>Compact   </td>\n",
       "        </tr>\n",
       "    </tbody>\n",
       "        <tr>\n",
       "            <td>Prius (2nd Gen)</td> <td>2000</td> <td>26832.2</td> <td>7.97        </td> <td>45.23</td> <td>Compact   </td>\n",
       "        </tr>\n",
       "    </tbody>\n",
       "        <tr>\n",
       "            <td>Insight        </td> <td>2000</td> <td>18936.4</td> <td>9.52        </td> <td>53   </td> <td>Two Seater</td>\n",
       "        </tr>\n",
       "    </tbody>\n",
       "        <tr>\n",
       "            <td>Civic (1st Gen)</td> <td>2001</td> <td>25833.4</td> <td>7.04        </td> <td>47.04</td> <td>Compact   </td>\n",
       "        </tr>\n",
       "    </tbody>\n",
       "        <tr>\n",
       "            <td>Insight        </td> <td>2001</td> <td>19036.7</td> <td>9.52        </td> <td>53   </td> <td>Two Seater</td>\n",
       "        </tr>\n",
       "    </tbody>\n",
       "        <tr>\n",
       "            <td>Insight        </td> <td>2002</td> <td>19137  </td> <td>9.71        </td> <td>53   </td> <td>Two Seater</td>\n",
       "        </tr>\n",
       "    </tbody>\n",
       "        <tr>\n",
       "            <td>Alphard        </td> <td>2003</td> <td>38084.8</td> <td>8.33        </td> <td>40.46</td> <td>Minivan   </td>\n",
       "        </tr>\n",
       "    </tbody>\n",
       "        <tr>\n",
       "            <td>Insight        </td> <td>2003</td> <td>19137  </td> <td>9.52        </td> <td>53   </td> <td>Two Seater</td>\n",
       "        </tr>\n",
       "    </tbody>\n",
       "        <tr>\n",
       "            <td>Civic          </td> <td>2003</td> <td>14071.9</td> <td>8.62        </td> <td>41   </td> <td>Compact   </td>\n",
       "        </tr>\n",
       "    </tbody>\n",
       "</table>\n",
       "<p>... (143 rows omitted)</p"
      ],
      "text/plain": [
       "vehicle         | year | msrp    | acceleration | mpg   | class\n",
       "Prius (1st Gen) | 1997 | 24509.7 | 7.46         | 41.26 | Compact\n",
       "Tino            | 2000 | 35355   | 8.2          | 54.1  | Compact\n",
       "Prius (2nd Gen) | 2000 | 26832.2 | 7.97         | 45.23 | Compact\n",
       "Insight         | 2000 | 18936.4 | 9.52         | 53    | Two Seater\n",
       "Civic (1st Gen) | 2001 | 25833.4 | 7.04         | 47.04 | Compact\n",
       "Insight         | 2001 | 19036.7 | 9.52         | 53    | Two Seater\n",
       "Insight         | 2002 | 19137   | 9.71         | 53    | Two Seater\n",
       "Alphard         | 2003 | 38084.8 | 8.33         | 40.46 | Minivan\n",
       "Insight         | 2003 | 19137   | 9.52         | 53    | Two Seater\n",
       "Civic           | 2003 | 14071.9 | 8.62         | 41    | Compact\n",
       "... (143 rows omitted)"
      ]
     },
     "execution_count": 2,
     "metadata": {},
     "output_type": "execute_result"
    }
   ],
   "source": [
    "hybrid = Table.read_table('http://inferentialthinking.com/notebooks/hybrid.csv') # Imports the data and creates a table\n",
    "hybrid # Displays the table"
   ]
  },
  {
   "cell_type": "markdown",
   "metadata": {},
   "source": [
    "*References: vehicle: model of the car, year: year of manufacture, msrp: manufacturer's suggested retail price in 2013 dollars, acceleration: acceleration rate in km per hour per second, mpg: fuel econonmy in miles per gallon, class: the model's class.*"
   ]
  },
  {
   "cell_type": "markdown",
   "metadata": {},
   "source": [
    "**Note: whenever we write an equal sign (=) in python, we are assigning somthing to a variable.**"
   ]
  },
  {
   "cell_type": "markdown",
   "metadata": {},
   "source": [
    "Now try to import your own data to this notebook! Remeber to assign your data to a variable that is informative but not too wordy."
   ]
  },
  {
   "cell_type": "code",
   "execution_count": 3,
   "metadata": {
    "collapsed": true
   },
   "outputs": [],
   "source": [
    "# TASK"
   ]
  },
  {
   "cell_type": "markdown",
   "metadata": {},
   "source": [
    "Let's visualize some of the data to see if we can spot a possible assocation! The modules we imported earlier include several powerful data visualization tools. Below are some interesting, possible relationships between our variables."
   ]
  },
  {
   "cell_type": "code",
   "execution_count": 4,
   "metadata": {},
   "outputs": [
    {
     "data": {
      "image/png": "[encoded data removed]",
      "text/plain": [
       "<matplotlib.figure.Figure at 0xd0ebd7b6a0>"
      ]
     },
     "metadata": {},
     "output_type": "display_data"
    }
   ],
   "source": [
    "hybrid.scatter('acceleration', 'msrp') # Creates a scatter plot of two variables in a table"
   ]
  },
  {
   "cell_type": "markdown",
   "metadata": {},
   "source": [
    "As we can see in the above scatter, there seems to be a positive association between acceleration and price. That is, cars with greater acceleration tend to cost more, on average; conversely, cars that cost more tend to have greater acceleration on average."
   ]
  },
  {
   "cell_type": "markdown",
   "metadata": {},
   "source": [
    "What about miles per gallon and price? Do you expect a positive or negative association?"
   ]
  },
  {
   "cell_type": "code",
   "execution_count": 5,
   "metadata": {},
   "outputs": [
    {
     "data": {
      "image/png": "[encoded data removed]",
      "text/plain": [
       "<matplotlib.figure.Figure at 0xd0ef4c5eb8>"
      ]
     },
     "metadata": {},
     "output_type": "display_data"
    }
   ],
   "source": [
    "hybrid.scatter('mpg', 'msrp')"
   ]
  },
  {
   "cell_type": "markdown",
   "metadata": {},
   "source": [
    "Along with the negative association, the scatter diagram of price versus efficiency shows a **non-linear relation** between the two variables. The points appear to be clustered around a curve, not around a straight line."
   ]
  },
  {
   "cell_type": "markdown",
   "metadata": {},
   "source": [
    "**SAM-TODO**: What code below are they supposed to figure out? If it is the cell below the empty \"#Task\" cell, then I'd put that cell first, followed by the task cell. And what are they supposed to put in that cell? Just a comment describing in Engligh what the code will display? That should be explicit, as I expect to write Python code in a code cell like that.\n",
    "\n",
    "As you may have noticed, python offers a relatively easy to understand syntax. Try figuring out what the code below will display!"
   ]
  },
  {
   "cell_type": "code",
   "execution_count": 6,
   "metadata": {
    "collapsed": true
   },
   "outputs": [],
   "source": [
    "# TASK"
   ]
  },
  {
   "cell_type": "code",
   "execution_count": 7,
   "metadata": {},
   "outputs": [
    {
     "data": {
      "image/png": "[encoded data removed]",
      "text/plain": [
       "<matplotlib.figure.Figure at 0xd0f6db29b0>"
      ]
     },
     "metadata": {},
     "output_type": "display_data"
    }
   ],
   "source": [
    "suv = hybrid.where('class', 'SUV')\n",
    "suv.scatter('mpg', 'msrp')"
   ]
  },
  {
   "cell_type": "markdown",
   "metadata": {},
   "source": [
    "As you can see, if we restrict the data just to the **SUV class**, the association appears to be more linear."
   ]
  },
  {
   "cell_type": "markdown",
   "metadata": {},
   "source": [
    "To find an association between two variables, the *.scatter* method is perhaps the most useful one. \n",
    "Try creating a few scatter plots of variables you might think are related among your data!"
   ]
  },
  {
   "cell_type": "code",
   "execution_count": 8,
   "metadata": {
    "collapsed": true
   },
   "outputs": [],
   "source": [
    "# TASK"
   ]
  },
  {
   "cell_type": "markdown",
   "metadata": {},
   "source": [
    "### Standard Units"
   ]
  },
  {
   "cell_type": "markdown",
   "metadata": {},
   "source": [
    "Once you've analyzed your scatter plots and found a possible assocation it's time to manipulate the data. Converting our data points into standard units means we are **subtracting the mean** and **dividing by the standard deviation.**\n",
    "\n",
    "As we will see, standard units are frequently used in data analysis. To make things easier, we've created a function that takes an array of numbers and returns an array of the numbers converted into standard units. To tell python we are defining a function, we write \"def\" followed by the code for the function."
   ]
  },
  {
   "cell_type": "code",
   "execution_count": 9,
   "metadata": {
    "collapsed": true
   },
   "outputs": [],
   "source": [
    "def standard_units(any_numbers):\n",
    "    \"Convert any array of numbers to standard units.\"\n",
    "    return (any_numbers - np.mean(any_numbers)) / np.std(any_numbers)\n",
    "\n",
    "# Note: np.mean and np.std respectively calculate the mean and SD of an array of numbers"
   ]
  },
  {
   "cell_type": "markdown",
   "metadata": {},
   "source": [
    "As you may have figured out, the variable \"any numbers\" will be replaced by our input when we use the function. To try this function out, we write the name of our table followed by .column(\"column name\"). The .column method let's us access specific columns in our table and the data within that column."
   ]
  },
  {
   "cell_type": "code",
   "execution_count": 10,
   "metadata": {},
   "outputs": [
    {
     "data": {
      "text/plain": [
       "array([-1.53500863, -1.28250064, -1.36098285, -0.83208097, -1.67832398,\n",
       "       -0.83208097, -0.76724784, -1.23814113, -0.83208097, -1.13918529,\n",
       "       -0.55909936, -0.89008957, -0.70241471, -0.97880859,  0.27349457,\n",
       "       -1.47700004,  0.27349457, -0.76724784, -1.26202702, -0.83208097,\n",
       "        1.0139572 , -0.28953001, -1.01634356, -0.23152142,  2.28332172,\n",
       "       -0.9208    ,  0.45434489, -0.35777542,  0.27349457,  1.90455973,\n",
       "       -0.23152142,  0.1097056 , -0.3714245 , -0.41237174, -0.15986374,\n",
       "       -1.11188713, -0.97880859, -0.83208097,  0.59424797, -1.39510556,\n",
       "        0.51576576,  0.21889825, -0.80478281,  0.6590811 , -0.13939012,\n",
       "       -0.13939012, -0.59663433,  2.04787507, -0.13939012, -0.97880859,\n",
       "        0.59424797,  0.52941484, -1.23814113, -1.06070308, -0.92762454,\n",
       "       -0.92762454,  1.16750936,  0.72391424,  0.03122339, -1.64420128,\n",
       "        2.88388127, -0.27588093, -1.26202702,  0.93547499,  0.93888726,\n",
       "       -0.95151043,  2.28332172, -0.40213493,  0.13359149, -0.15986374,\n",
       "       -0.06773245, -0.11209196,  0.6590811 ,  0.35197679, -0.06773245,\n",
       "        0.35197679, -0.89008957, -0.76724784, -0.80478281, -0.668292  ,\n",
       "       -0.20422326, -1.51453501,  0.03122339, -0.83549324, -1.93424425,\n",
       "       -0.48402941,  0.13359149, -0.83208097, -0.15986374,  0.08240744,\n",
       "       -0.01996067,  0.6590811 ,  0.18477555,  2.23896221,  1.42342963,\n",
       "        2.12294502, -0.89008957, -1.07093989, -0.28953001,  1.60769222,\n",
       "        1.70323578, -0.86620367, -0.28953001,  0.40998538, -0.15986374,\n",
       "        2.48123339, -0.20422326,  1.90455973,  1.90455973,  0.52600257,\n",
       "       -1.11188713,  0.23937187, -0.6000466 , -0.6000466 , -0.08138153,\n",
       "        0.13359149, -0.06773245,  0.52941484,  0.46799397, -0.06773245,\n",
       "       -0.11209196, -0.06773245, -0.20422326, -0.15986374, -0.20422326,\n",
       "        0.08240744,  0.35197679,  0.6590811 ,  0.93888726,  1.51214865,\n",
       "        1.42342963, -0.11209196, -0.01996067, -0.02678521,  0.46799397,\n",
       "        0.70685289, -0.56251163,  0.13359149, -0.9208    ,  1.0139572 ,\n",
       "        0.13359149, -0.668292  ,  1.60769222,  2.61089966,  1.0139572 ,\n",
       "        0.35197679,  2.12294502,  2.23896221,  0.6590811 , -0.95151043,\n",
       "       -0.06773245, -0.06773245, -0.28953001])"
      ]
     },
     "execution_count": 10,
     "metadata": {},
     "output_type": "execute_result"
    }
   ],
   "source": [
    "# Remember, \"hybrid\" is the name of our table\n",
    "standard_units(hybrid.column('acceleration'))"
   ]
  },
  {
   "cell_type": "markdown",
   "metadata": {},
   "source": [
    "The first scatter plot we created (acceleration and price) seems to display a positive relationship. To calculate the correlation between the two variables, we first convert the data into standard units using our function."
   ]
  },
  {
   "cell_type": "code",
   "execution_count": 11,
   "metadata": {
    "collapsed": true
   },
   "outputs": [],
   "source": [
    "# Converts the data into standard units and assigns to variables\n",
    "acceleration_su = standard_units(hybrid.column('acceleration'))\n",
    "msrp_su = standard_units(hybrid.column('msrp'))"
   ]
  },
  {
   "cell_type": "markdown",
   "metadata": {},
   "source": [
    "Now try to convert your own variables into standard units!"
   ]
  },
  {
   "cell_type": "code",
   "execution_count": 18,
   "metadata": {
    "collapsed": true
   },
   "outputs": [],
   "source": [
    "# TASK\n",
    "# Hint: start by using the .column method to access the data you want to convert"
   ]
  },
  {
   "cell_type": "markdown",
   "metadata": {},
   "source": [
    "Awesome! Now we're ready to calculate the correlation coefficient!"
   ]
  },
  {
   "cell_type": "markdown",
   "metadata": {},
   "source": [
    "### The correlation coefficient"
   ]
  },
  {
   "cell_type": "markdown",
   "metadata": {},
   "source": [
    "*Definition: the average of the products of the two variables, when both variables are measured in standard units.*"
   ]
  },
  {
   "cell_type": "markdown",
   "metadata": {},
   "source": [
    "Try figuring out how the below function works and relates to the above definition!"
   ]
  },
  {
   "cell_type": "code",
   "execution_count": 70,
   "metadata": {
    "collapsed": true
   },
   "outputs": [],
   "source": [
    "# TASK (more challenging)\n",
    "# Hint: start with the inside of the function and work your way out"
   ]
  },
  {
   "cell_type": "code",
   "execution_count": 69,
   "metadata": {
    "collapsed": true
   },
   "outputs": [],
   "source": [
    "def correlation(t, x, y):\n",
    "    return np.mean(standard_units(t.column(x)) * standard_units(t.column(y)))"
   ]
  },
  {
   "cell_type": "markdown",
   "metadata": {},
   "source": [
    "**SAM-TODO**: I think the below line is confusing (maybe I know too much about programming?), but a function within a function to me is an inner function, which is not what you're describing here. I think it would be better to say something like **\"we can use other functions within the functions that we create\"**.\n",
    "\n",
    "As you may have seen, in python, we can have **functions within functions.** This is very common and something that allows us to create functions that are very simple to use, yet very powerful."
   ]
  },
  {
   "cell_type": "markdown",
   "metadata": {},
   "source": [
    "Let's calculate the correlation coeffcient between acceleration and price!"
   ]
  },
  {
   "cell_type": "code",
   "execution_count": 20,
   "metadata": {},
   "outputs": [
    {
     "data": {
      "text/plain": [
       "0.69557789969139783"
      ]
     },
     "execution_count": 20,
     "metadata": {},
     "output_type": "execute_result"
    }
   ],
   "source": [
    "correlation(hybrid,'acceleration','msrp')"
   ]
  },
  {
   "cell_type": "markdown",
   "metadata": {},
   "source": [
    "**SAM-TODO**: You haven't yet told them that the correlation is betwee -1 and 1, so saying \"keep in mind\" below should be replaced with something like. \"Since the correlation is a function of standardized numbers, it's value always is within the range -1 to 1.\"\n",
    "\n",
    "Now it's your turn to calculate the correlation coefficient. Keep in mind that r is a number between −1 and 1.\n",
    "\n",
    "**r = 1: the scatter diagram is a perfect straight line sloping upwards.**\n",
    "\n",
    "**r = -1: the scatter diagram is a perfect straight line sloping downwards.**"
   ]
  },
  {
   "cell_type": "code",
   "execution_count": 21,
   "metadata": {
    "collapsed": true
   },
   "outputs": [],
   "source": [
    "# TASK"
   ]
  },
  {
   "cell_type": "markdown",
   "metadata": {
    "collapsed": true
   },
   "source": [
    "### Regression"
   ]
  },
  {
   "cell_type": "markdown",
   "metadata": {},
   "source": [
    "As mentioned earlier, an important tool in data science is to make predictions based on data. The code that we've created so far has helped us establish a relationship between our two variables. Once a relationship has been established, it's time to create a model that predicts unseen data values. To do this we'll find the equation of the **regression line**!"
   ]
  },
  {
   "cell_type": "markdown",
   "metadata": {},
   "source": [
    "The regression line is the **best fit** line for our data. It’s like an average of where all the points line up. In linear regression, the regression line is a perfectly straight line! Below is a picture showing the best fit line."
   ]
  },
  {
   "cell_type": "code",
   "execution_count": 22,
   "metadata": {},
   "outputs": [
    {
     "data": {
      "image/jpeg": "[encoded data removed]",
      "text/plain": [
       "<IPython.core.display.Image object>"
      ]
     },
     "execution_count": 22,
     "metadata": {},
     "output_type": "execute_result"
    }
   ],
   "source": [
    "from IPython.display import Image\n",
    "Image(\"http://onlinestatbook.com/2/regression/graphics/gpa.jpg\")"
   ]
  },
  {
   "cell_type": "markdown",
   "metadata": {},
   "source": [
    "As you can infer from the picture, once we find the **slope** and the **y-intercept** we can start predicting values!"
   ]
  },
  {
   "cell_type": "markdown",
   "metadata": {},
   "source": [
    "*Slope of the regression line = r⋅(SD of y / SD of x)*\n",
    "\n",
    "*Intercept of the regression line = average of y − slope⋅average of x*"
   ]
  },
  {
   "cell_type": "markdown",
   "metadata": {},
   "source": [
    "(The above equations can be derived from the fact that the estimate of y = r⋅x (when measured in standard units), but it's not essential to understand in this module)"
   ]
  },
  {
   "cell_type": "code",
   "execution_count": 30,
   "metadata": {
    "collapsed": true
   },
   "outputs": [],
   "source": [
    "# The code below writes out the above equations in python language. The syntax should look familiar!\n",
    "\n",
    "def slope(t, x, y):\n",
    "    r1 = correlation(t, x, y)\n",
    "    return r1 * np.std(t.column(y)) / np.std(t.column(x))\n",
    "\n",
    "def intercept(t, x, y):\n",
    "    return np.mean(t.column(y)) - slope(t, x, y) * np.mean(t.column(x))"
   ]
  },
  {
   "cell_type": "markdown",
   "metadata": {},
   "source": [
    "Let's calculate the slope and intercept for our data! Before we start, let's create a new table with only the two variables we are interested in (the ones we used to calculate the correlation coefficient). The *.select* method let's us pick specific columns in our data."
   ]
  },
  {
   "cell_type": "code",
   "execution_count": 31,
   "metadata": {},
   "outputs": [
    {
     "data": {
      "text/html": [
       "<table border=\"1\" class=\"dataframe\">\n",
       "    <thead>\n",
       "        <tr>\n",
       "            <th>acceleration</th> <th>msrp</th>\n",
       "        </tr>\n",
       "    </thead>\n",
       "    <tbody>\n",
       "        <tr>\n",
       "            <td>7.46        </td> <td>24509.7</td>\n",
       "        </tr>\n",
       "    </tbody>\n",
       "        <tr>\n",
       "            <td>8.2         </td> <td>35355  </td>\n",
       "        </tr>\n",
       "    </tbody>\n",
       "        <tr>\n",
       "            <td>7.97        </td> <td>26832.2</td>\n",
       "        </tr>\n",
       "    </tbody>\n",
       "        <tr>\n",
       "            <td>9.52        </td> <td>18936.4</td>\n",
       "        </tr>\n",
       "    </tbody>\n",
       "        <tr>\n",
       "            <td>7.04        </td> <td>25833.4</td>\n",
       "        </tr>\n",
       "    </tbody>\n",
       "        <tr>\n",
       "            <td>9.52        </td> <td>19036.7</td>\n",
       "        </tr>\n",
       "    </tbody>\n",
       "        <tr>\n",
       "            <td>9.71        </td> <td>19137  </td>\n",
       "        </tr>\n",
       "    </tbody>\n",
       "        <tr>\n",
       "            <td>8.33        </td> <td>38084.8</td>\n",
       "        </tr>\n",
       "    </tbody>\n",
       "        <tr>\n",
       "            <td>9.52        </td> <td>19137  </td>\n",
       "        </tr>\n",
       "    </tbody>\n",
       "        <tr>\n",
       "            <td>8.62        </td> <td>14071.9</td>\n",
       "        </tr>\n",
       "    </tbody>\n",
       "</table>\n",
       "<p>... (143 rows omitted)</p"
      ],
      "text/plain": [
       "acceleration | msrp\n",
       "7.46         | 24509.7\n",
       "8.2          | 35355\n",
       "7.97         | 26832.2\n",
       "9.52         | 18936.4\n",
       "7.04         | 25833.4\n",
       "9.52         | 19036.7\n",
       "9.71         | 19137\n",
       "8.33         | 38084.8\n",
       "9.52         | 19137\n",
       "8.62         | 14071.9\n",
       "... (143 rows omitted)"
      ]
     },
     "execution_count": 31,
     "metadata": {},
     "output_type": "execute_result"
    }
   ],
   "source": [
    "new_table = hybrid.select('acceleration','msrp') #Picks columns from hybrid and creates a new table with those columns\n",
    "new_table"
   ]
  },
  {
   "cell_type": "markdown",
   "metadata": {},
   "source": [
    "Try creating a new table of the columns you calculated the correlation coefficient of earlier!"
   ]
  },
  {
   "cell_type": "code",
   "execution_count": 25,
   "metadata": {
    "collapsed": true
   },
   "outputs": [],
   "source": [
    "# TASK"
   ]
  },
  {
   "cell_type": "markdown",
   "metadata": {},
   "source": [
    "Let's assign all the values to variables!"
   ]
  },
  {
   "cell_type": "code",
   "execution_count": 32,
   "metadata": {
    "collapsed": true
   },
   "outputs": [],
   "source": [
    "r = correlation(new_table,'acceleration','msrp')\n",
    "m = slope(new_table,'acceleration','msrp')\n",
    "b = intercept(new_table,'acceleration','msrp')\n",
    "\n",
    "# Note: \n",
    "# r = correlation coefficient\n",
    "# m = slope\n",
    "# b = y-interncept"
   ]
  },
  {
   "cell_type": "markdown",
   "metadata": {},
   "source": [
    "Now try calculating all the values above for your data and assign them to variables!"
   ]
  },
  {
   "cell_type": "code",
   "execution_count": 27,
   "metadata": {
    "collapsed": true
   },
   "outputs": [],
   "source": [
    "# TASK\n",
    "# Hint: remember to use the table you just created!"
   ]
  },
  {
   "cell_type": "markdown",
   "metadata": {},
   "source": [
    "### Prediction"
   ]
  },
  {
   "cell_type": "markdown",
   "metadata": {},
   "source": [
    "Almost there! As we know from math, **y = m⋅x + b** for a linear equation\n",
    "\n",
    "*Note: in our data y = price of car and x = acceleration*"
   ]
  },
  {
   "cell_type": "markdown",
   "metadata": {},
   "source": [
    "Let's predict the price of a car that has an acceleration of 10!"
   ]
  },
  {
   "cell_type": "code",
   "execution_count": 58,
   "metadata": {},
   "outputs": [
    {
     "data": {
      "text/plain": [
       "29394.436990853057"
      ]
     },
     "execution_count": 58,
     "metadata": {},
     "output_type": "execute_result"
    }
   ],
   "source": [
    "price = m * 10 + b\n",
    "price"
   ]
  },
  {
   "cell_type": "markdown",
   "metadata": {},
   "source": [
    "Now it's you turn, try prediciting one of your data points based on the values you calculated!"
   ]
  },
  {
   "cell_type": "code",
   "execution_count": 29,
   "metadata": {
    "collapsed": true
   },
   "outputs": [],
   "source": [
    "# TASK"
   ]
  },
  {
   "cell_type": "markdown",
   "metadata": {},
   "source": [
    "To check our model, let's see how accurate our predictions was."
   ]
  },
  {
   "cell_type": "code",
   "execution_count": 65,
   "metadata": {},
   "outputs": [
    {
     "data": {
      "text/html": [
       "<table border=\"1\" class=\"dataframe\">\n",
       "    <thead>\n",
       "        <tr>\n",
       "            <th>acceleration</th> <th>msrp</th>\n",
       "        </tr>\n",
       "    </thead>\n",
       "    <tbody>\n",
       "        <tr>\n",
       "            <td>9.71        </td> <td>19137  </td>\n",
       "        </tr>\n",
       "    </tbody>\n",
       "        <tr>\n",
       "            <td>9.9         </td> <td>20355.6</td>\n",
       "        </tr>\n",
       "    </tbody>\n",
       "        <tr>\n",
       "            <td>9.71        </td> <td>19387.8</td>\n",
       "        </tr>\n",
       "    </tbody>\n",
       "        <tr>\n",
       "            <td>10.21       </td> <td>21872.7</td>\n",
       "        </tr>\n",
       "    </tbody>\n",
       "        <tr>\n",
       "            <td>9.71        </td> <td>30082.2</td>\n",
       "        </tr>\n",
       "    </tbody>\n",
       "        <tr>\n",
       "            <td>10          </td> <td>30588.3</td>\n",
       "        </tr>\n",
       "    </tbody>\n",
       "        <tr>\n",
       "            <td>10.2        </td> <td>24360  </td>\n",
       "        </tr>\n",
       "    </tbody>\n",
       "        <tr>\n",
       "            <td>10.2        </td> <td>24200  </td>\n",
       "        </tr>\n",
       "    </tbody>\n",
       "        <tr>\n",
       "            <td>10          </td> <td>41555  </td>\n",
       "        </tr>\n",
       "    </tbody>\n",
       "</table>"
      ],
      "text/plain": [
       "acceleration | msrp\n",
       "9.71         | 19137\n",
       "9.9          | 20355.6\n",
       "9.71         | 19387.8\n",
       "10.21        | 21872.7\n",
       "9.71         | 30082.2\n",
       "10           | 30588.3\n",
       "10.2         | 24360\n",
       "10.2         | 24200\n",
       "10           | 41555"
      ]
     },
     "execution_count": 65,
     "metadata": {},
     "output_type": "execute_result"
    }
   ],
   "source": [
    "# The method .where let's us \"filter\" our data and only look at certain data points\n",
    "\n",
    "close = hybrid.where('acceleration',are.between(9.7,10.3)).select('acceleration','msrp')\n",
    "close"
   ]
  },
  {
   "cell_type": "markdown",
   "metadata": {},
   "source": [
    "A commonly used error measure in data science is RMSE."
   ]
  },
  {
   "cell_type": "markdown",
   "metadata": {},
   "source": [
    "**R**oot **M**ean **S**quared **E**rror =  The square root of the mean of the square of all of the errors"
   ]
  },
  {
   "cell_type": "code",
   "execution_count": 67,
   "metadata": {},
   "outputs": [
    {
     "data": {
      "text/plain": [
       "7786.9551617196885"
      ]
     },
     "execution_count": 67,
     "metadata": {},
     "output_type": "execute_result"
    }
   ],
   "source": [
    "rms_error = np.sqrt(np.mean((price - close.column('msrp'))**2))\n",
    "rms_error"
   ]
  },
  {
   "cell_type": "markdown",
   "metadata": {},
   "source": [
    "Lastly, calculate the RMSE for your prediction!"
   ]
  },
  {
   "cell_type": "code",
   "execution_count": 68,
   "metadata": {
    "collapsed": true
   },
   "outputs": [],
   "source": [
    "# TASK"
   ]
  },
  {
   "cell_type": "markdown",
   "metadata": {},
   "source": [
    "That's it! By working through this model, you've learned how to **visually analyze your data**, **establish a correlation** by calculating the **correlation coefficient**, **finding the regression line** and **predicting data points**, and finally **checking the accuracy of your prediction**!"
   ]
  },
  {
   "cell_type": "markdown",
   "metadata": {},
   "source": [
    "#### Possible additional material: effect of outliers, ecological correlation"
   ]
  }
 ],
 "metadata": {
  "kernelspec": {
   "display_name": "Python 3",
   "language": "python",
   "name": "python3"
  },
  "language_info": {
   "codemirror_mode": {
    "name": "ipython",
    "version": 3
   },
   "file_extension": ".py",
   "mimetype": "text/x-python",
   "name": "python",
   "nbconvert_exporter": "python",
   "pygments_lexer": "ipython3",
   "version": "3.6.1"
  }
 },
 "nbformat": 4,
 "nbformat_minor": 2
}
