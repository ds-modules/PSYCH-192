{
 "cells": [
  {
   "cell_type": "markdown",
   "metadata": {},
   "source": [
    "# Correlation, regression, and prediction"
   ]
  },
  {
   "cell_type": "markdown",
   "metadata": {},
   "source": [
    "One of the most important and interesting aspects of data science is making predictions about the future. How can we learn about temperatures a few decades from now by analyzing historical data about climate change and pollution? Based on a person's social media profile, what conclusions can we draw about their interests? How can we use a patient's medical history to judge how well he or she will respond to a treatment?\n",
    "\n",
    "In this module, you will look at two **correlated** phenomena and predict unseen data points!"
   ]
  },
  {
   "cell_type": "markdown",
   "metadata": {},
   "source": [
    "In order to use the datascience tools in python, we must first import the relevant modules. The text after the # sign is called a \"comment\" and is not part of the code. It's simply a way for us to clarify the syntax."
   ]
  },
  {
   "cell_type": "code",
   "execution_count": null,
   "metadata": {
    "collapsed": true
   },
   "outputs": [],
   "source": [
    "# These lines import the Numpy and Datascience modules.\n",
    "from datascience import *\n",
    "import numpy as np\n",
    "\n",
    "# These lines do some fancy plotting magic\n",
    "import matplotlib\n",
    "%matplotlib inline\n",
    "import matplotlib.pyplot as plots\n",
    "plots.style.use('fivethirtyeight')"
   ]
  },
  {
   "cell_type": "markdown",
   "metadata": {},
   "source": [
    "We will be using data from the online data archive of Prof. Larry Winner of the University of Florida. The file *hybrid* contains data on hybrid passenger cars sold in the United States from 1997 to 2013. In order to analyze the data, we must first **import** it to our jupyter notebook and **create a table.**"
   ]
  },
  {
   "cell_type": "code",
   "execution_count": null,
   "metadata": {
    "collapsed": false
   },
   "outputs": [],
   "source": [
    "hybrid = Table.read_table('http://inferentialthinking.com/notebooks/hybrid.csv') # Imports the data and creates a table\n",
    "hybrid # Displays the table"
   ]
  },
  {
   "cell_type": "markdown",
   "metadata": {},
   "source": [
    "*References: vehicle: model of the car, year: year of manufacture, msrp: manufacturer's suggested retail price in 2013 dollars, acceleration: acceleration rate in km per hour per second, mpg: fuel econonmy in miles per gallon, class: the model's class.*"
   ]
  },
  {
   "cell_type": "markdown",
   "metadata": {},
   "source": [
    "**Note: whenever we write an equal sign (=) in python, we are assigning somthing to a variable.**"
   ]
  },
  {
   "cell_type": "markdown",
   "metadata": {},
   "source": [
    "Now try to import your own data to this notebook! Remeber to assign your data to a variable that is informative but not too wordy."
   ]
  },
  {
   "cell_type": "code",
   "execution_count": null,
   "metadata": {
    "collapsed": true
   },
   "outputs": [],
   "source": [
    "# TASK"
   ]
  },
  {
   "cell_type": "markdown",
   "metadata": {},
   "source": [
    "Let's visualize some of the data to see if we can spot a possible assocation! The modules we imported earlier include several powerful data visualization tools. Below are some interesting, possible relationships between our variables."
   ]
  },
  {
   "cell_type": "code",
   "execution_count": null,
   "metadata": {
    "collapsed": false
   },
   "outputs": [],
   "source": [
    "hybrid.scatter('acceleration', 'msrp') # Creates a scatter plot of two variables in a table"
   ]
  },
  {
   "cell_type": "markdown",
   "metadata": {},
   "source": [
    "As we can see in the above scatter, there seems to be a positive association between acceleration and price. That is, cars with greater acceleration tend to cost more, on average; conversely, cars that cost more tend to have greater acceleration on average."
   ]
  },
  {
   "cell_type": "markdown",
   "metadata": {},
   "source": [
    "What about miles per gallon and price? Do you expect a positive or negative association?"
   ]
  },
  {
   "cell_type": "code",
   "execution_count": null,
   "metadata": {
    "collapsed": false
   },
   "outputs": [],
   "source": [
    "hybrid.scatter('mpg', 'msrp')"
   ]
  },
  {
   "cell_type": "markdown",
   "metadata": {},
   "source": [
    "Along with the negative association, the scatter diagram of price versus efficiency shows a **non-linear relation** between the two variables. The points appear to be clustered around a curve, not around a straight line."
   ]
  },
  {
   "cell_type": "markdown",
   "metadata": {},
   "source": [
    "**SAM-TODO**: What code below are they supposed to figure out? If it is the cell below the empty \"#Task\" cell, then I'd put that cell first, followed by the task cell. And what are they supposed to put in that cell? Just a comment describing in Engligh what the code will display? That should be explicit, as I expect to write Python code in a code cell like that.\n",
    "\n",
    "As you may have noticed, python offers a relatively easy to understand syntax. Try figuring out what the code below will display!"
   ]
  },
  {
   "cell_type": "code",
   "execution_count": null,
   "metadata": {
    "collapsed": true
   },
   "outputs": [],
   "source": [
    "# TASK"
   ]
  },
  {
   "cell_type": "code",
   "execution_count": null,
   "metadata": {
    "collapsed": false
   },
   "outputs": [],
   "source": [
    "suv = hybrid.where('class', 'SUV')\n",
    "suv.scatter('mpg', 'msrp')"
   ]
  },
  {
   "cell_type": "markdown",
   "metadata": {},
   "source": [
    "As you can see, if we restrict the data just to the **SUV class**, the association appears to be more linear."
   ]
  },
  {
   "cell_type": "markdown",
   "metadata": {},
   "source": [
    "To find an association between two variables, the *.scatter* method is perhaps the most useful one. \n",
    "Try creating a few scatter plots of variables you might think are related among your data!"
   ]
  },
  {
   "cell_type": "code",
   "execution_count": null,
   "metadata": {
    "collapsed": true
   },
   "outputs": [],
   "source": [
    "# TASK"
   ]
  },
  {
   "cell_type": "markdown",
   "metadata": {},
   "source": [
    "### Standard Units"
   ]
  },
  {
   "cell_type": "markdown",
   "metadata": {},
   "source": [
    "Once you've analyzed your scatter plots and found a possible assocation it's time to manipulate the data. Converting our data points into standard units means we are **subtracting the mean** and **dividing by the standard deviation.**\n",
    "\n",
    "As we will see, standard units are frequently used in data analysis. To make things easier, we've created a function that takes an array of numbers and returns an array of the numbers converted into standard units. To tell python we are defining a function, we write \"def\" followed by the code for the function."
   ]
  },
  {
   "cell_type": "code",
   "execution_count": null,
   "metadata": {
    "collapsed": true
   },
   "outputs": [],
   "source": [
    "def standard_units(any_numbers):\n",
    "    \"Convert any array of numbers to standard units.\"\n",
    "    return (any_numbers - np.mean(any_numbers)) / np.std(any_numbers)\n",
    "\n",
    "# Note: np.mean and np.std respectively calculate the mean and SD of an array of numbers"
   ]
  },
  {
   "cell_type": "markdown",
   "metadata": {},
   "source": [
    "As you may have figured out, the variable \"any numbers\" will be replaced by our input when we use the function. To try this function out, we write the name of our table followed by .column(\"column name\"). The .column method let's us access specific columns in our table and the data within that column."
   ]
  },
  {
   "cell_type": "code",
   "execution_count": null,
   "metadata": {
    "collapsed": false
   },
   "outputs": [],
   "source": [
    "# Remember, \"hybrid\" is the name of our table\n",
    "standard_units(hybrid.column('acceleration'))"
   ]
  },
  {
   "cell_type": "markdown",
   "metadata": {},
   "source": [
    "The first scatter plot we created (acceleration and price) seems to display a positive relationship. To calculate the correlation between the two variables, we first convert the data into standard units using our function."
   ]
  },
  {
   "cell_type": "code",
   "execution_count": null,
   "metadata": {
    "collapsed": true
   },
   "outputs": [],
   "source": [
    "# Converts the data into standard units and assigns to variables\n",
    "acceleration_su = standard_units(hybrid.column('acceleration'))\n",
    "msrp_su = standard_units(hybrid.column('msrp'))"
   ]
  },
  {
   "cell_type": "markdown",
   "metadata": {},
   "source": [
    "Now try to convert your own variables into standard units!"
   ]
  },
  {
   "cell_type": "code",
   "execution_count": null,
   "metadata": {
    "collapsed": true
   },
   "outputs": [],
   "source": [
    "# TASK\n",
    "# Hint: start by using the .column method to access the data you want to convert"
   ]
  },
  {
   "cell_type": "markdown",
   "metadata": {},
   "source": [
    "Awesome! Now we're ready to calculate the correlation coefficient!"
   ]
  },
  {
   "cell_type": "markdown",
   "metadata": {},
   "source": [
    "### The correlation coefficient"
   ]
  },
  {
   "cell_type": "markdown",
   "metadata": {},
   "source": [
    "*Definition: the average of the products of the two variables, when both variables are measured in standard units.*"
   ]
  },
  {
   "cell_type": "markdown",
   "metadata": {},
   "source": [
    "Try figuring out how the below function works and relates to the above definition!"
   ]
  },
  {
   "cell_type": "code",
   "execution_count": null,
   "metadata": {
    "collapsed": true
   },
   "outputs": [],
   "source": [
    "# TASK (more challenging)\n",
    "# Hint: start with the inside of the function and work your way out"
   ]
  },
  {
   "cell_type": "code",
   "execution_count": null,
   "metadata": {
    "collapsed": true
   },
   "outputs": [],
   "source": [
    "def correlation(t, x, y):\n",
    "    return np.mean(standard_units(t.column(x)) * standard_units(t.column(y)))"
   ]
  },
  {
   "cell_type": "markdown",
   "metadata": {},
   "source": [
    "**SAM-TODO**: I think the below line is confusing (maybe I know too much about programming?), but a function within a function to me is an inner function, which is not what you're describing here. I think it would be better to say something like **\"we can use other functions within the functions that we create\"**.\n",
    "\n",
    "As you may have seen, in python, we can have **functions within functions.** This is very common and something that allows us to create functions that are very simple to use, yet very powerful."
   ]
  },
  {
   "cell_type": "markdown",
   "metadata": {},
   "source": [
    "Let's calculate the correlation coeffcient between acceleration and price!"
   ]
  },
  {
   "cell_type": "code",
   "execution_count": null,
   "metadata": {
    "collapsed": false
   },
   "outputs": [],
   "source": [
    "correlation(hybrid,'acceleration','msrp')"
   ]
  },
  {
   "cell_type": "markdown",
   "metadata": {},
   "source": [
    "**SAM-TODO**: You haven't yet told them that the correlation is betwee -1 and 1, so saying \"keep in mind\" below should be replaced with something like. \"Since the correlation is a function of standardized numbers, it's value always is within the range -1 to 1.\"\n",
    "\n",
    "Now it's your turn to calculate the correlation coefficient. Keep in mind that r is a number between −1 and 1.\n",
    "\n",
    "**r = 1: the scatter diagram is a perfect straight line sloping upwards.**\n",
    "\n",
    "**r = -1: the scatter diagram is a perfect straight line sloping downwards.**"
   ]
  },
  {
   "cell_type": "code",
   "execution_count": null,
   "metadata": {
    "collapsed": true
   },
   "outputs": [],
   "source": [
    "# TASK"
   ]
  },
  {
   "cell_type": "markdown",
   "metadata": {
    "collapsed": true
   },
   "source": [
    "### Regression"
   ]
  },
  {
   "cell_type": "markdown",
   "metadata": {},
   "source": [
    "As mentioned earlier, an important tool in data science is to make predictions based on data. The code that we've created so far has helped us establish a relationship between our two variables. Once a relationship has been established, it's time to create a model that predicts unseen data values. To do this we'll find the equation of the **regression line**!"
   ]
  },
  {
   "cell_type": "markdown",
   "metadata": {},
   "source": [
    "The regression line is the **best fit** line for our data. It’s like an average of where all the points line up. In linear regression, the regression line is a perfectly straight line! Below is a picture showing the best fit line."
   ]
  },
  {
   "cell_type": "code",
   "execution_count": null,
   "metadata": {
    "collapsed": false
   },
   "outputs": [],
   "source": [
    "from IPython.display import Image\n",
    "Image(\"http://onlinestatbook.com/2/regression/graphics/gpa.jpg\")"
   ]
  },
  {
   "cell_type": "markdown",
   "metadata": {},
   "source": [
    "As you can infer from the picture, once we find the **slope** and the **y-intercept** we can start predicting values!"
   ]
  },
  {
   "cell_type": "markdown",
   "metadata": {},
   "source": [
    "*Slope of the regression line = r⋅(SD of y / SD of x)*\n",
    "\n",
    "*Intercept of the regression line = average of y − slope⋅average of x*"
   ]
  },
  {
   "cell_type": "markdown",
   "metadata": {},
   "source": [
    "(The above equations can be derived from the fact that the estimate of y = r⋅x (when measured in standard units), but it's not essential to understand in this module)"
   ]
  },
  {
   "cell_type": "code",
   "execution_count": null,
   "metadata": {
    "collapsed": true
   },
   "outputs": [],
   "source": [
    "# The code below writes out the above equations in python language. The syntax should look familiar!\n",
    "\n",
    "def slope(t, x, y):\n",
    "    r1 = correlation(t, x, y)\n",
    "    return r1 * np.std(t.column(y)) / np.std(t.column(x))\n",
    "\n",
    "def intercept(t, x, y):\n",
    "    return np.mean(t.column(y)) - slope(t, x, y) * np.mean(t.column(x))"
   ]
  },
  {
   "cell_type": "markdown",
   "metadata": {},
   "source": [
    "Let's calculate the slope and intercept for our data! Before we start, let's create a new table with only the two variables we are interested in (the ones we used to calculate the correlation coefficient). The *.select* method let's us pick specific columns in our data."
   ]
  },
  {
   "cell_type": "code",
   "execution_count": null,
   "metadata": {
    "collapsed": false
   },
   "outputs": [],
   "source": [
    "new_table = hybrid.select('acceleration','msrp') #Picks columns from hybrid and creates a new table with those columns\n",
    "new_table"
   ]
  },
  {
   "cell_type": "markdown",
   "metadata": {},
   "source": [
    "Try creating a new table of the columns you calculated the correlation coefficient of earlier!"
   ]
  },
  {
   "cell_type": "code",
   "execution_count": null,
   "metadata": {
    "collapsed": true
   },
   "outputs": [],
   "source": [
    "# TASK"
   ]
  },
  {
   "cell_type": "markdown",
   "metadata": {},
   "source": [
    "Let's assign all the values to variables!"
   ]
  },
  {
   "cell_type": "code",
   "execution_count": null,
   "metadata": {
    "collapsed": true
   },
   "outputs": [],
   "source": [
    "r = correlation(new_table,'acceleration','msrp')\n",
    "m = slope(new_table,'acceleration','msrp')\n",
    "b = intercept(new_table,'acceleration','msrp')\n",
    "\n",
    "# Note: \n",
    "# r = correlation coefficient\n",
    "# m = slope\n",
    "# b = y-interncept"
   ]
  },
  {
   "cell_type": "markdown",
   "metadata": {},
   "source": [
    "Now try calculating all the values above for your data and assign them to variables!"
   ]
  },
  {
   "cell_type": "code",
   "execution_count": null,
   "metadata": {
    "collapsed": true
   },
   "outputs": [],
   "source": [
    "# TASK\n",
    "# Hint: remember to use the table you just created!"
   ]
  },
  {
   "cell_type": "markdown",
   "metadata": {},
   "source": [
    "### Prediction"
   ]
  },
  {
   "cell_type": "markdown",
   "metadata": {},
   "source": [
    "Almost there! As we know from math, **y = m⋅x + b** for a linear equation\n",
    "\n",
    "*Note: in our data y = price of car and x = acceleration*"
   ]
  },
  {
   "cell_type": "markdown",
   "metadata": {},
   "source": [
    "Let's predict the price of a car that has an acceleration of 10!"
   ]
  },
  {
   "cell_type": "code",
   "execution_count": null,
   "metadata": {
    "collapsed": false
   },
   "outputs": [],
   "source": [
    "price = m * 10 + b\n",
    "price"
   ]
  },
  {
   "cell_type": "markdown",
   "metadata": {},
   "source": [
    "Now it's you turn, try prediciting one of your data points based on the values you calculated!"
   ]
  },
  {
   "cell_type": "code",
   "execution_count": null,
   "metadata": {
    "collapsed": true
   },
   "outputs": [],
   "source": [
    "# TASK"
   ]
  },
  {
   "cell_type": "markdown",
   "metadata": {},
   "source": [
    "To check our model, let's see how accurate our predictions was."
   ]
  },
  {
   "cell_type": "code",
   "execution_count": null,
   "metadata": {
    "collapsed": false
   },
   "outputs": [],
   "source": [
    "# The method .where let's us \"filter\" our data and only look at certain data points\n",
    "\n",
    "close = hybrid.where('acceleration',are.between(9.7,10.3)).select('acceleration','msrp')\n",
    "close"
   ]
  },
  {
   "cell_type": "markdown",
   "metadata": {},
   "source": [
    "A commonly used error measure in data science is RMSE."
   ]
  },
  {
   "cell_type": "markdown",
   "metadata": {},
   "source": [
    "**R**oot **M**ean **S**quared **E**rror =  The square root of the mean of the square of all of the errors"
   ]
  },
  {
   "cell_type": "code",
   "execution_count": null,
   "metadata": {
    "collapsed": false
   },
   "outputs": [],
   "source": [
    "rms_error = np.sqrt(np.mean((price - close.column('msrp'))**2))\n",
    "rms_error"
   ]
  },
  {
   "cell_type": "markdown",
   "metadata": {},
   "source": [
    "Lastly, calculate the RMSE for your prediction!"
   ]
  },
  {
   "cell_type": "code",
   "execution_count": null,
   "metadata": {
    "collapsed": true
   },
   "outputs": [],
   "source": [
    "# TASK"
   ]
  },
  {
   "cell_type": "markdown",
   "metadata": {},
   "source": [
    "That's it! By working through this model, you've learned how to **visually analyze your data**, **establish a correlation** by calculating the **correlation coefficient**, **finding the regression line** and **predicting data points**, and finally **checking the accuracy of your prediction**!"
   ]
  },
  {
   "cell_type": "markdown",
   "metadata": {},
   "source": [
    "#### Possible additional material: effect of outliers, ecological correlation"
   ]
  }
 ],
 "metadata": {
  "anaconda-cloud": {},
  "kernelspec": {
   "display_name": "Python [default]",
   "language": "python",
   "name": "python3"
  },
  "language_info": {
   "codemirror_mode": {
    "name": "ipython",
    "version": 3
   },
   "file_extension": ".py",
   "mimetype": "text/x-python",
   "name": "python",
   "nbconvert_exporter": "python",
   "pygments_lexer": "ipython3",
   "version": "3.5.2"
  }
 },
 "nbformat": 4,
 "nbformat_minor": 2
}
