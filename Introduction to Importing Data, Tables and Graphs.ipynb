{
 "cells": [
  {
   "cell_type": "markdown",
   "metadata": {},
   "source": [
    "# Introduction to Importing Data, Using Tables and Creating Graphs "
   ]
  },
  {
   "cell_type": "markdown",
   "metadata": {},
   "source": [
    "## Introduction\n",
    "\n",
    "This is an iPython notebook! An iPython notebook allows us to run code (Python), display graphs, and record analyses all in one place!"
   ]
  },
  {
   "cell_type": "markdown",
   "metadata": {},
   "source": [
    "## Quick Start Guide\n",
    "\n",
    "- Each block of code or text is called a \"cell\"\n",
    "- To select a cell, click on it. You should see an outline around the cell you have selected. To edit a cell, double click it (you'll be doing this to answer questions).\n",
    "- To run a cell, first select it, then hold down shift and press enter. That's it!\n",
    "- It's important to run cells in order, starting from the top of the notebook. All of the code works together, and relies on being run in the correct order for everything to work!"
   ]
  },
  {
   "cell_type": "markdown",
   "metadata": {},
   "source": [
    "#### In this notebook we will be learning to import data, clean it, make tables and create visualizations. \n"
   ]
  },
  {
   "cell_type": "markdown",
   "metadata": {},
   "source": [
    "**SAM-NOTE**: you call python modules packages in this notebook, but modules in the next one. You should be conistant, and I think use the correct term (Module). But, I understand that this is a data science \"module\" as well, and so the terms could be confusing!\n",
    "\n",
    "\n",
    "Here are just some code packages we will be using today. Most of the cells that contain code have words/phrases that are preceded by a '#'. The '#' indicates that the phrase following is a comment. Comments are placed within code to describe its functions without actually affecting the code itself!"
   ]
  },
  {
   "cell_type": "code",
   "execution_count": null,
   "metadata": {
    "collapsed": true
   },
   "outputs": [],
   "source": [
    "%%capture \n",
    "# Above line prevents the output from being displayed, since there is a \n",
    "# lot of text from the installation of the datascience module\n",
    "\n",
    "# Do not change, just run this cell\n",
    "!pip install datascience;\n",
    "\n",
    "import numpy as np\n",
    "from datascience import *\n",
    "\n",
    "import matplotlib\n",
    "%matplotlib inline \n",
    "import matplotlib.pyplot as plots\n",
    "plots.style.use(\"fivethirtyeight\")\n"
   ]
  },
  {
   "cell_type": "markdown",
   "metadata": {},
   "source": [
    "## Creating Tables\n"
   ]
  },
  {
   "cell_type": "markdown",
   "metadata": {},
   "source": [
    "### Importing"
   ]
  },
  {
   "cell_type": "markdown",
   "metadata": {},
   "source": [
    "First, we need data. Creating tables from imported data is a good way of organizing a lot of information into an easy-to-read medium. \n",
    "\n",
    "Data may be retrieved from an outside source.  In general, to import data from a .csv file, we write Table.read_table(\"file_name\"). These file names end in .csv to show data type. This data type is popular and can be imported/exported from programs such as Microsoft Excel or OpenOffice Calc. \n",
    " \n",
    "An example is shown below using U.S. Census data. "
   ]
  },
  {
   "cell_type": "code",
   "execution_count": null,
   "metadata": {
    "collapsed": false
   },
   "outputs": [],
   "source": [
    "Table.read_table(\"http://www2.census.gov/programs-surveys/popest/datasets/2010-2015/national/asrh/nc-est2015-agesex-res.csv\")"
   ]
  },
  {
   "cell_type": "markdown",
   "metadata": {},
   "source": [
    "That's a lot of information. As you can see from the labels on top, this table shows Biological Sex (0=total, 1=male, 2=female), Age,  2010 Census Information, and predictions for U.S. population for the next five years. \n",
    "\n",
    "We will use this table later in the notebook.\n"
   ]
  },
  {
   "cell_type": "markdown",
   "metadata": {},
   "source": [
    "### From Scratch"
   ]
  },
  {
   "cell_type": "markdown",
   "metadata": {},
   "source": [
    "There's another way to create tables without using an outside file. To make these tables, first we need to make arrays. Arrays are simply a form of lists that a computer program uses. Let's make two arrays below, one for famous psychologists and one for the year they were born. \n",
    "\n",
    "In general, to make an array we use: make_array(attribute #1, attribute #2, ...). We set each of these created arrays equal to a variable name. This means that from now on, we can use that variable name to reference its respective array! Variables make information storage and retrieval much easier. "
   ]
  },
  {
   "cell_type": "code",
   "execution_count": null,
   "metadata": {
    "collapsed": true
   },
   "outputs": [],
   "source": [
    "psychologist_names= make_array(\"Freud\", \"Skinner\", \"Piaget\", \"Maslow\")\n",
    "psychologist_birth= make_array(1856, 1904, 1896, 1908)"
   ]
  },
  {
   "cell_type": "markdown",
   "metadata": {},
   "source": [
    "Now, to make a table using these arrays, we use the general form: Table( ).with_columns(\"Column Name\", array_name, . . .). We assign the created table to a variable (just like the arrays from above), and then type that variable name to display the table. "
   ]
  },
  {
   "cell_type": "code",
   "execution_count": null,
   "metadata": {
    "collapsed": false
   },
   "outputs": [],
   "source": [
    "psych_table= Table().with_columns(\"Psychologist\", psychologist_names,\n",
    "                                  \"Birth Year\", psychologist_birth)\n",
    "psych_table "
   ]
  },
  {
   "cell_type": "markdown",
   "metadata": {},
   "source": [
    "## Using Tables"
   ]
  },
  {
   "cell_type": "markdown",
   "metadata": {},
   "source": [
    "We can make criteria to cut down tables. Accessing only the rows, columns, or values specfic to our purpose makes that information easier to understand. Analysis and conclusions can be made when data is more digestible. \n",
    "\n",
    "We need to access the census table above and name it for further use. We assign the table to a variable, similar to what we did above!"
   ]
  },
  {
   "cell_type": "code",
   "execution_count": null,
   "metadata": {
    "collapsed": false
   },
   "outputs": [],
   "source": [
    "census_data= Table.read_table(\"http://www2.census.gov/programs-surveys/popest/datasets/2010-2015/national/asrh/nc-est2015-agesex-res.csv\")\n",
    "census_data"
   ]
  },
  {
   "cell_type": "markdown",
   "metadata": {},
   "source": [
    "This notebook can calculate how large this table is with two functions: num_rows and num_columns. The general form for these functions are table.num_rows and table.num_columns. \n",
    "\n",
    "Let's use these on the table above. "
   ]
  },
  {
   "cell_type": "code",
   "execution_count": null,
   "metadata": {
    "collapsed": false
   },
   "outputs": [],
   "source": [
    "census_data.num_rows\n"
   ]
  },
  {
   "cell_type": "code",
   "execution_count": null,
   "metadata": {
    "collapsed": false
   },
   "outputs": [],
   "source": [
    "census_data.num_columns"
   ]
  },
  {
   "cell_type": "markdown",
   "metadata": {},
   "source": [
    "That's a 306 x 10 table! We can first start to cut down this table using only some columns. Let's only include biological sex, age and the estimated base for 2010 census data. \n",
    "\n",
    "There are two methods to make a table with select columns included. We could either use the 'select' function or the 'drop' function. \n",
    "\n",
    "    'select' can create a new table with only the columns indicated in the parameters \n",
    "    'drop' can create a new table with columns NOT indicated in the parameters\n",
    "\n",
    "\n",
    "Here's an example of two equal codes: (keep in mind that we assign each new table to a new variable, to make organization easier). "
   ]
  },
  {
   "cell_type": "code",
   "execution_count": null,
   "metadata": {
    "collapsed": false
   },
   "outputs": [],
   "source": [
    "select_census_data= census_data.select(\"SEX\", \"AGE\", \"ESTIMATESBASE2010\")\n",
    "select_census_data\n"
   ]
  },
  {
   "cell_type": "code",
   "execution_count": null,
   "metadata": {
    "collapsed": false
   },
   "outputs": [],
   "source": [
    "drop_census_data= census_data.drop(\"CENSUS2010POP\",\"POPESTIMATE2010\",\"POPESTIMATE2011\",\"POPESTIMATE2012\",\"POPESTIMATE2013\",\"POPESTIMATE2014\",\"POPESTIMATE2015\")\n",
    "drop_census_data"
   ]
  },
  {
   "cell_type": "markdown",
   "metadata": {},
   "source": [
    "As you can see underneath the table, there are still 296 rows omitted! Our next step is to only include non-gendered data AKA data where SEX=0, neither male or female specific. \n",
    "\n",
    "To do this, we need to use a new function \"where\". The general form of this function is table_name.where(column_name, predicate). \n",
    "\n",
    "Some more useful predicates are listed in the table below: (This table is created in the same manner as one of the tables above! See if you can trace the code!)"
   ]
  },
  {
   "cell_type": "code",
   "execution_count": null,
   "metadata": {
    "collapsed": false
   },
   "outputs": [],
   "source": [
    "predicates= make_array(\"are.equal_to()\", \"are.not_equal_to()\", \"are.above()\", \"are.below()\", \"are.between()\") \n",
    "meaning= make_array(\"find values equal to that indicated\",\"find values not including the one indicated\",\n",
    "                   \"find values greater to that indicated\", \"find values less than that indicated\",\n",
    "                   \"find values between the two indicated\")\n",
    "predicates_table=Table().with_columns(\"Predicate\",predicates, \"Meaning\", meaning)\n",
    "predicates_table\n"
   ]
  },
  {
   "cell_type": "markdown",
   "metadata": {},
   "source": [
    "To cut our table down to only include sex=0, we may use the predicate are.equal_to(). Note that we are assigning the new table to a new variable. We are referencing the table stored in an older variable (select_census_data), and modifying it. That modification is what is stored in the new variable. \n"
   ]
  },
  {
   "cell_type": "code",
   "execution_count": null,
   "metadata": {
    "collapsed": false
   },
   "outputs": [],
   "source": [
    "new_census_data=select_census_data.where(\"SEX\", are.equal_to(0))\n",
    "new_census_data"
   ]
  },
  {
   "cell_type": "markdown",
   "metadata": {},
   "source": [
    "There are still 92 rows omitted! Let's take every 10th entry to cut this table down a little more. \n",
    "\n",
    "To do this we need to use the take function. The take function creates a new table with rows from the original table whose indices(row number) are given. In Python, indices start at 0! \n",
    "\n",
    "Here's taking every 10th entry. Inside of the take parentheses is a Python list of numbers from 0 to 90, increasing by 10s. This indicates exactly which rows we want to keep (every 10th row)."
   ]
  },
  {
   "cell_type": "code",
   "execution_count": null,
   "metadata": {
    "collapsed": false
   },
   "outputs": [],
   "source": [
    "census_10_year= new_census_data.take([0,10,20,30,40,50,60,70,80,90])\n",
    "census_10_year"
   ]
  },
  {
   "cell_type": "markdown",
   "metadata": {},
   "source": [
    "Now that sex is all the same, we can drop that column. "
   ]
  },
  {
   "cell_type": "code",
   "execution_count": null,
   "metadata": {
    "collapsed": false
   },
   "outputs": [],
   "source": [
    "final_census_table= census_10_year.drop(\"SEX\")\n",
    "final_census_table"
   ]
  },
  {
   "cell_type": "markdown",
   "metadata": {},
   "source": [
    "## Visualizations "
   ]
  },
  {
   "cell_type": "markdown",
   "metadata": {},
   "source": [
    "Now that we have a manageable table we can start making visualizations! Due to the numerical nature of the census table above, let's first try a scatter plot. \n",
    "\n",
    "To execute a scatter plot, we need to use the scatter() function. The general form is table.scatter(column for x axis, column for y axis). An example is shown below."
   ]
  },
  {
   "cell_type": "code",
   "execution_count": null,
   "metadata": {
    "collapsed": false
   },
   "outputs": [],
   "source": [
    "census_scatter=final_census_table.scatter(\"AGE\", \"ESTIMATESBASE2010\") \n",
    "census_scatter"
   ]
  },
  {
   "cell_type": "markdown",
   "metadata": {},
   "source": [
    "With this data, we can also make a line plot. To do this, we need to use the .plot() function. This works a lot like .scatter() where the general form is table.plot(x column, y column). "
   ]
  },
  {
   "cell_type": "code",
   "execution_count": null,
   "metadata": {
    "collapsed": false
   },
   "outputs": [],
   "source": [
    "census_line=final_census_table.plot(\"AGE\", \"ESTIMATESBASE2010\") \n",
    "census_line"
   ]
  },
  {
   "cell_type": "markdown",
   "metadata": {},
   "source": [
    "Now let's introduce a new table with numerical data to try our hands at bar charts and histograms. \n",
    "Below is our psychologist birth year table with an added column for popularity. The third column is how many students voted for that psychologist as their favorite. "
   ]
  },
  {
   "cell_type": "code",
   "execution_count": null,
   "metadata": {
    "collapsed": false
   },
   "outputs": [],
   "source": [
    "student_vote=make_array(12, 15, 3, 29)\n",
    "new_psych=psych_table.with_columns(\"Student Vote\", student_vote)\n",
    "new_psych"
   ]
  },
  {
   "cell_type": "markdown",
   "metadata": {},
   "source": [
    "From this table, we can create a bar graph comparing psychologists and how many students voted for them. Bar graphs follow the same formula as scatter plots and line graphs above, with the general form table.bar(x axis, y axis). \n",
    "\n",
    "You can see an example below. "
   ]
  },
  {
   "cell_type": "code",
   "execution_count": null,
   "metadata": {
    "collapsed": false
   },
   "outputs": [],
   "source": [
    "new_psych.bar(\"Psychologist\", \"Student Vote\")"
   ]
  },
  {
   "cell_type": "markdown",
   "metadata": {},
   "source": [
    "For a better visualization, you can flip the bar graph horizontally by using the function barh() as shown below. "
   ]
  },
  {
   "cell_type": "code",
   "execution_count": null,
   "metadata": {
    "collapsed": false
   },
   "outputs": [],
   "source": [
    "new_psych.barh(\"Psychologist\", \"Student Vote\")"
   ]
  },
  {
   "cell_type": "markdown",
   "metadata": {},
   "source": [
    "**SAM-NOTE**: I think a little more explanation of what a histogram is would be useful here. The sentence explaining that bins are continugous intervals should say what they are intervals of.\n",
    "\n",
    "One last visualization technique we may use is the histogram. This one is a little trickier than the ones above. The function table.hist(x axis, bins(optional), unit(optional)). Bins are contiguous intervals so a dataset may be grouped together. Bin parameters are inclusive on the left end and exclusive on the right on or math wise: [a, b). \n",
    "Adjustments can be made on bins to include high or low outliers. We will see this using the census data we have above. \n",
    "\n",
    "Here are an example of histograms. "
   ]
  },
  {
   "cell_type": "code",
   "execution_count": null,
   "metadata": {
    "collapsed": false
   },
   "outputs": [],
   "source": [
    "census_data.hist(\"AGE\", unit= \"year\")"
   ]
  },
  {
   "cell_type": "markdown",
   "metadata": {},
   "source": [
    "As you can see, binning to include outliers would allow use a better visual of percent population per age. bins and same_bins below both get you the same histogram shown. "
   ]
  },
  {
   "cell_type": "code",
   "execution_count": null,
   "metadata": {
    "collapsed": false
   },
   "outputs": [],
   "source": [
    "bins= make_array(0,20,40,60,80,100)\n",
    "same_bins=np.arange(0,120,20)\n",
    "census_data.hist(\"AGE\", bins= same_bins, unit=\"year\")"
   ]
  },
  {
   "cell_type": "markdown",
   "metadata": {},
   "source": [
    "As you can tell by this histogram, the number of Americans per age stays consistently the same except for those over betwee 80 and 100. The number of newborns in America is approximately the same as 45 year olds. "
   ]
  },
  {
   "cell_type": "markdown",
   "metadata": {
    "collapsed": true
   },
   "source": [
    "## SUMMARY "
   ]
  },
  {
   "cell_type": "markdown",
   "metadata": {},
   "source": [
    "### You've learned a lot in this module! Let's look back on the key parts. \n",
    "\n",
    "To import data from a .csv/.txt file, we write Table.read_table(\"file_name\").\n",
    "\n",
    "To create our own table, we write Table( ).with_columns(\"Column Name\", array_name, . . .) . \n",
    "\n",
    "To count number of rows, we use table_name.num_rows.\n",
    "\n",
    "To count number of columns, we use table_name.num_columns.\n",
    "\n",
    "To create a new table with only the columns indicated in the parameters, we use table_name.select(\"COLUMN NAME\", ...). \n",
    "\n",
    "To create a new table without the columns indicated in the parameters, we use table_name.drop(\"COLUMN NAME\", ...). \n",
    "\n",
    "To create a table with only certain values, we can use table_name.where(column_name, predicate).\n",
    "Useful predicates can be seen in the table below."
   ]
  },
  {
   "cell_type": "code",
   "execution_count": null,
   "metadata": {
    "collapsed": false
   },
   "outputs": [],
   "source": [
    "predicates_table"
   ]
  },
  {
   "cell_type": "markdown",
   "metadata": {},
   "source": [
    "To create a new table with indicated rows from the original table, we use table_name.take([index 1, index 2, . . . ]). Remember in Python indices start at 0!\n",
    "\n",
    "To execute a scatter plot, we use table.scatter(column for x axis, column for y axis).\n",
    "\n",
    "To execute a line plot, we use table.plot(x column, y column).\n",
    "\n",
    "To make a bar graphs, we can use either table.bar(x column, y column) or table.barh(x column, y column). \n",
    "\n",
    "To make a histogram, we use table.hist(x axis, bins(optional), unit(optional)). \n",
    "\n",
    "With just some simple code, we were able to do an incredible amount of data analysis! Play around with the examples until you feel comfortable with the content of this notebook. We will be using notebooks to analyze your own data sets in the future! Please ask if you have questions!\n"
   ]
  },
  {
   "cell_type": "markdown",
   "metadata": {},
   "source": []
  }
 ],
 "metadata": {
  "anaconda-cloud": {},
  "kernelspec": {
   "display_name": "Python [default]",
   "language": "python",
   "name": "python3"
  },
  "language_info": {
   "codemirror_mode": {
    "name": "ipython",
    "version": 3
   },
   "file_extension": ".py",
   "mimetype": "text/x-python",
   "name": "python",
   "nbconvert_exporter": "python",
   "pygments_lexer": "ipython3",
   "version": "3.5.2"
  }
 },
 "nbformat": 4,
 "nbformat_minor": 2
}
